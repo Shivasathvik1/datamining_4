{
 "cells": [
  {
   "cell_type": "markdown",
   "id": "7b543a96-1a3c-477b-bc9f-c6f2e6e5cefc",
   "metadata": {},
   "source": [
    "                                           Assignment 4"
   ]
  },
  {
   "cell_type": "code",
   "execution_count": 19,
   "id": "e153e8df-8b21-4996-8828-e7b1cfafcfbb",
   "metadata": {},
   "outputs": [],
   "source": [
    "import os\n",
    "import warnings \n",
    "warnings.filterwarnings(\"ignore\")\n",
    "\n",
    "dog_image_directory = r'C:\\Users\\injam\\Desktop\\DM_Assignment_1\\Cropped'\n",
    "\n",
    "from skimage import filters\n",
    "from skimage import io, color\n",
    "from skimage import exposure\n",
    "import numpy as np\n",
    "\n",
    "def calculate_angle(dx, dy):\n",
    "    return np.mod(np.arctan2(dy, dx), np.pi)\n",
    "\n",
    "hist_images = []\n",
    "labels = []\n",
    "\n",
    "for index, breed in enumerate(os.listdir(dog_image_directory)):\n",
    "    image_folder = os.path.join(dog_image_directory, breed)\n",
    "    for image in os.listdir(image_folder):\n",
    "        img = io.imread(os.path.join(image_folder, image.strip()))\n",
    "        img = color.rgb2gray(img)\n",
    "        sobel_img = calculate_angle(filters.sobel_h(img), filters.sobel_v(img))\n",
    "        hist, _ = exposure.histogram(sobel_img, nbins=36)\n",
    "        hist_images.append(hist / np.sum(hist))\n",
    "        labels.append(index)\n",
    "\n",
    "hist_images = np.array(hist_images)\n",
    "labels = np.array(labels)\n"
   ]
  },
  {
   "cell_type": "code",
   "execution_count": 20,
   "id": "dbeb39d7-fed2-445a-8a4b-e01e6d85d87d",
   "metadata": {},
   "outputs": [],
   "source": [
    "from sklearn.decomposition import PCA\n",
    "model=PCA(2)\n",
    "pca2 = model.fit_transform(hist_images)\n"
   ]
  },
  {
   "cell_type": "code",
   "execution_count": 25,
   "id": "06b953a7-0ffc-4da7-9e95-a0159ebbadb4",
   "metadata": {},
   "outputs": [
    {
     "name": "stdout",
     "output_type": "stream",
     "text": [
      "KMeans Random\n",
      "fowlkes  :0.30353266800098666\n",
      "silhouette :0.4185683795750631\n",
      "\n",
      "\n",
      "KMeans KMeans++\n",
      "fowlkes  :0.31520188962993373\n",
      "silhouette :0.4135128261083564\n",
      "\n",
      "\n",
      "BisectingKmeans\n",
      "fowlkes  :0.333017685831437\n",
      "silhouette :0.4332733726639791\n",
      "\n",
      "\n",
      "SpectralClustering\n",
      "fowlkes  :0.34834824513062457\n",
      "silhouette :-0.029977113490016673\n",
      "\n",
      "\n"
     ]
    }
   ],
   "source": [
    "from sklearn.cluster import KMeans, BisectingKMeans, SpectralClustering\n",
    "from sklearn.metrics import silhouette_score, fowlkes_mallows_score\n",
    "\n",
    "clustering_models = {\n",
    "    \"KMeans Random\": KMeans(init=\"random\", n_clusters=4),\n",
    "    \"KMeans KMeans++\": KMeans(init=\"k-means++\", n_clusters=4),\n",
    "    \"BisectingKmeans\": BisectingKMeans(init=\"random\", n_clusters=4),\n",
    "    \"SpectralClustering\": SpectralClustering(n_clusters=4)\n",
    "}\n",
    "\n",
    "for method, model in clustering_models.items():\n",
    "    fitted_model = model.fit(pca2)\n",
    "    print(method)\n",
    "    print(\"fowlkes  :\" + str(fowlkes_mallows_score(labels, fitted_model.labels_)))\n",
    "    print(\"silhouette :\" + str(silhouette_score(pca2, fitted_model.labels_)))\n",
    "    print(\"\\n\")\n"
   ]
  },
  {
   "cell_type": "code",
   "execution_count": 22,
   "id": "0de350dc-62ab-44b4-994a-98e1be762ff9",
   "metadata": {},
   "outputs": [
    {
     "name": "stdout",
     "output_type": "stream",
     "text": [
      "Estimated number of clusters: 4\n",
      "Estimated number of noise points: 0\n"
     ]
    }
   ],
   "source": [
    "from sklearn.cluster import DBSCAN\n",
    "db = DBSCAN(eps=0.015, min_samples=2).fit(pca2)\n",
    "# Number of clusters in labels, ignoring noise if present.\n",
    "n_clusters_ = len(set(labels)) - (1 if -1 in labels else 0)\n",
    "n_noise_ = list(labels).count(-1)\n",
    "\n",
    "print(\"Estimated number of clusters: %d\" % n_clusters_)\n",
    "print(\"Estimated number of noise points: %d\" % n_noise_)"
   ]
  },
  {
   "cell_type": "markdown",
   "id": "e84d1fcf-25b9-4656-b6a6-fc297b8c29d1",
   "metadata": {},
   "source": [
    "## eps=0.015, min_samples=2"
   ]
  },
  {
   "cell_type": "code",
   "execution_count": 23,
   "id": "31ba9f41-1665-4641-83f0-5aa0a9865312",
   "metadata": {},
   "outputs": [
    {
     "name": "stdout",
     "output_type": "stream",
     "text": [
      "fowlkes  :0.48807103785693184\n",
      "silhoutte :0.4802708103721345\n"
     ]
    }
   ],
   "source": [
    "print(\"fowlkes  :\" +str(fowlkes_mallows_score(labels,db.labels_)))\n",
    "print(\"silhoutte :\"+str(silhouette_score(pca2,db.labels_)))"
   ]
  },
  {
   "cell_type": "code",
   "execution_count": 24,
   "id": "36de1556-752a-48bd-a365-4e2230e1ce0f",
   "metadata": {},
   "outputs": [
    {
     "name": "stdout",
     "output_type": "stream",
     "text": [
      "ward\n",
      "folwkes :0.3146235000818094\n",
      " silhouette :0.40256571902377786\n",
      "\n",
      "complete\n",
      "folwkes :0.40659482650984735\n",
      " silhouette :0.401907724039627\n",
      "\n",
      "average\n",
      "folwkes :0.4965405634587954\n",
      " silhouette :0.6257171216011216\n",
      "\n",
      "single\n",
      "folwkes :0.4977891732358187\n",
      " silhouette :0.6869276296961174\n",
      "\n"
     ]
    }
   ],
   "source": [
    "from sklearn.cluster import AgglomerativeClustering\n",
    "linkage=[\"ward\", \"complete\", \"average\", \"single\" ]\n",
    "for link in linkage:\n",
    "    clustering=AgglomerativeClustering(n_clusters=4,linkage=link)\n",
    "    pred=clustering.fit(pca2)\n",
    "    print(link)\n",
    "    print(\"folwkes :\"+str(fowlkes_mallows_score(labels,pred.labels_)))\n",
    "    print(\" silhouette :\"+str(silhouette_score(pca2,pred.labels_))+\"\\n\")"
   ]
  },
  {
   "cell_type": "markdown",
   "id": "a2f6a026-79bb-4822-ac2d-4cc0761e891f",
   "metadata": {
    "jp-MarkdownHeadingCollapsed": true
   },
   "source": [
    "### fowlkes score best to worst : agglomerative single,Average,dbscan,complete,spectral,bisecting,k-means++,ward,random"
   ]
  },
  {
   "cell_type": "markdown",
   "id": "4a3d2e8a-8985-403d-8218-a1b2ce51da2d",
   "metadata": {},
   "source": [
    "### silhouette score best to worst : agglomerative single,average,dbscan,bisecting,random,k-means++,ward,complete,spectral"
   ]
  },
  {
   "cell_type": "code",
   "execution_count": null,
   "id": "8d8db29d-6053-4c27-bc13-dea0bd35cdc9",
   "metadata": {},
   "outputs": [],
   "source": []
  }
 ],
 "metadata": {
  "kernelspec": {
   "display_name": "Python 3 (ipykernel)",
   "language": "python",
   "name": "python3"
  },
  "language_info": {
   "codemirror_mode": {
    "name": "ipython",
    "version": 3
   },
   "file_extension": ".py",
   "mimetype": "text/x-python",
   "name": "python",
   "nbconvert_exporter": "python",
   "pygments_lexer": "ipython3",
   "version": "3.12.2"
  }
 },
 "nbformat": 4,
 "nbformat_minor": 5
}
